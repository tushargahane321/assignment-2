{
 "cells": [
  {
   "cell_type": "code",
   "execution_count": null,
   "id": "39e5c206-ebed-4497-92ca-bc18ad41d79c",
   "metadata": {},
   "outputs": [],
   "source": [
    "#(1)_write a program to accept percentage from the user and display the grade according to the following criteria:"
   ]
  },
  {
   "cell_type": "code",
   "execution_count": 6,
   "id": "cc0d399e-247d-4029-804f-f51674716b25",
   "metadata": {},
   "outputs": [
    {
     "name": "stdin",
     "output_type": "stream",
     "text": [
      "enter the marks obtained: 91\n"
     ]
    },
    {
     "name": "stdout",
     "output_type": "stream",
     "text": [
      "Grade = A\n"
     ]
    }
   ],
   "source": [
    "marks = int(input(\"enter the marks obtained:\"))\n",
    "\n",
    "if marks>90:\n",
    "    print(\"Grade = A\")\n",
    "elif marks>=80 and marks<=90:\n",
    "    print(\"Grade = B\")\n",
    "elif marks>=60 and marks<=80:\n",
    "    print(\"Grade = C\")\n",
    "elif marks<60 :\n",
    "    print(\"Grade = D\")\n",
    "else:\n",
    "    print(\"Invalid Input!\")"
   ]
  },
  {
   "cell_type": "code",
   "execution_count": 13,
   "id": "aabfa752-8811-469f-b20b-0c3725dd6a4f",
   "metadata": {},
   "outputs": [],
   "source": [
    "#(2)_write a program to accept the cost price of a bike and display the road tax to be paid according to the following criteria:"
   ]
  },
  {
   "cell_type": "code",
   "execution_count": 11,
   "id": "e4595d1d-279e-406c-ab0f-0bfa41a9fcc5",
   "metadata": {},
   "outputs": [
    {
     "name": "stdin",
     "output_type": "stream",
     "text": [
      "enter the price of a bike: 110000\n"
     ]
    },
    {
     "name": "stdout",
     "output_type": "stream",
     "text": [
      "Tax = 15%\n"
     ]
    }
   ],
   "source": [
    "cost_price = int(input(\"enter the price of a bike:\"))\n",
    "\n",
    "if cost_price >100000:\n",
    "    print(\"Tax = 15%\")\n",
    "elif cost_price >50000 and cost_price <=100000:\n",
    "    print(\"Tax = 10%\")\n",
    "elif cost_price <=50000:\n",
    "    print(\"Tax = 5%\")\n",
    "else:\n",
    "    print(\"invalid input!\")"
   ]
  },
  {
   "cell_type": "code",
   "execution_count": 12,
   "id": "d96a0414-5f5e-4d8f-980b-c829f279d4a0",
   "metadata": {},
   "outputs": [],
   "source": [
    "#(3)_Accept any city from the user and display monuments of that city."
   ]
  },
  {
   "cell_type": "code",
   "execution_count": 23,
   "id": "e94b7b47-993e-4ab5-921f-b07282fc2341",
   "metadata": {},
   "outputs": [
    {
     "name": "stdin",
     "output_type": "stream",
     "text": [
      "enter the name of city: JAIPUR\n"
     ]
    },
    {
     "name": "stdout",
     "output_type": "stream",
     "text": [
      "Jal Mahal\n"
     ]
    }
   ],
   "source": [
    "city = input(\"enter the name of city:\")\n",
    "\n",
    "if city.upper() == \"DELHI\":\n",
    "    print(\"Red Fort\")\n",
    "elif city.upper() == \"AGRA\":\n",
    "    print(\"Taj Mahal\")\n",
    "elif city.upper()== \"JAIPUR\":\n",
    "    print(\"Jal Mahal\")\n",
    "else:\n",
    "    print(\"invalid input!\")"
   ]
  },
  {
   "cell_type": "code",
   "execution_count": null,
   "id": "6b16d9c3-e560-4b5a-98c5-cf7e9c345493",
   "metadata": {},
   "outputs": [],
   "source": [
    "#(4)_Check how many times a given number can be divided by 3 before it is less than or equal to 10."
   ]
  },
  {
   "cell_type": "code",
   "execution_count": 23,
   "id": "1d78b590-d736-4033-b55d-4af7ac3a0b73",
   "metadata": {},
   "outputs": [
    {
     "name": "stdin",
     "output_type": "stream",
     "text": [
      "enter the number: 5\n"
     ]
    },
    {
     "name": "stdout",
     "output_type": "stream",
     "text": [
      "i\n"
     ]
    }
   ],
   "source": [
    "n = int(input(\"enter the number:\"))\n",
    "\n",
    "if n <= 10:\n",
    "    i= n%3\n",
    "    print(\"i\")\n",
    "else:\n",
    "    print(\"invalid input!\")"
   ]
  },
  {
   "cell_type": "code",
   "execution_count": null,
   "id": "7bf456b5-b315-4088-8ddc-a92187901d67",
   "metadata": {},
   "outputs": [],
   "source": [
    "#(5)Why and when to use while loop in python give a detailed"
   ]
  },
  {
   "cell_type": "code",
   "execution_count": null,
   "id": "8e578a3f-f495-4938-bc52-702422af0afa",
   "metadata": {},
   "outputs": [],
   "source": [
    "#(6)_Use nested while loop to print 3 different pattern."
   ]
  },
  {
   "cell_type": "code",
   "execution_count": 1,
   "id": "149248f8-2237-43ef-8328-0385664f818a",
   "metadata": {},
   "outputs": [
    {
     "name": "stdout",
     "output_type": "stream",
     "text": [
      "1 \n",
      "1 2 \n",
      "1 2 3 \n",
      "1 2 3 4 \n",
      "1 2 3 4 5 \n"
     ]
    }
   ],
   "source": [
    "i=1\n",
    "while i<=5:\n",
    "    j=1\n",
    "    while j<=i:\n",
    "        print(j,end=\" \")\n",
    "        j=j+1\n",
    "    print(\"\")\n",
    "    i=i+1"
   ]
  },
  {
   "cell_type": "code",
   "execution_count": 14,
   "id": "4a189b74-1bd4-4660-8854-4330ebca452c",
   "metadata": {},
   "outputs": [
    {
     "name": "stdin",
     "output_type": "stream",
     "text": [
      "Enter number of rows :  5\n"
     ]
    },
    {
     "name": "stdout",
     "output_type": "stream",
     "text": [
      "* \n",
      "* * \n",
      "* * * \n",
      "* * * * \n",
      "* * * * * \n"
     ]
    }
   ],
   "source": [
    "n = int(input('Enter number of rows : '))\n",
    "\n",
    "i = 1\n",
    "while i <= n :\n",
    "    j = 1\n",
    "    while j <= i:\n",
    "        print(\"*\", end = \" \")\n",
    "        j += 1\n",
    "    print()\n",
    "    i += 1"
   ]
  },
  {
   "cell_type": "code",
   "execution_count": 18,
   "id": "6e3dd933-d5dc-499c-91e7-9ff5496c93e8",
   "metadata": {},
   "outputs": [
    {
     "name": "stdin",
     "output_type": "stream",
     "text": [
      "enter the number of rows : 7\n"
     ]
    },
    {
     "name": "stdout",
     "output_type": "stream",
     "text": [
      "  1 \n",
      "  2   3 \n",
      "  4   5   6 \n",
      "  7   8   9  10 \n",
      " 11  12  13  14  15 \n",
      " 16  17  18  19  20  21 \n",
      " 22  23  24  25  26  27  28 \n"
     ]
    }
   ],
   "source": [
    "n =int(input(\"enter the number of rows :\"))\n",
    "\n",
    "i=1\n",
    "k=1\n",
    "while i<=n:\n",
    "    j=1\n",
    "    while j<=i:\n",
    "        print(\"{:3d}\".format(k), end = \" \")\n",
    "        j+=1\n",
    "        k+=1\n",
    "    print()\n",
    "    i+=1"
   ]
  },
  {
   "cell_type": "code",
   "execution_count": 19,
   "id": "83c26243-86aa-49ad-ad48-2fba9645ade6",
   "metadata": {},
   "outputs": [],
   "source": [
    "#(7)_Revese a while loop to display numbers from 10 to 1."
   ]
  },
  {
   "cell_type": "code",
   "execution_count": 20,
   "id": "c87697e7-338f-47e6-ba26-985995cc1675",
   "metadata": {},
   "outputs": [
    {
     "name": "stdout",
     "output_type": "stream",
     "text": [
      "10\n",
      "9\n",
      "8\n",
      "7\n",
      "6\n",
      "5\n",
      "4\n",
      "3\n",
      "2\n",
      "1\n"
     ]
    }
   ],
   "source": [
    "i=10\n",
    "while i>0:\n",
    "    print(i)\n",
    "    i=i-1"
   ]
  },
  {
   "cell_type": "code",
   "execution_count": null,
   "id": "9569eded-c525-4e0c-a38e-9591acc8d1db",
   "metadata": {},
   "outputs": [],
   "source": []
  }
 ],
 "metadata": {
  "kernelspec": {
   "display_name": "Python 3 (ipykernel)",
   "language": "python",
   "name": "python3"
  },
  "language_info": {
   "codemirror_mode": {
    "name": "ipython",
    "version": 3
   },
   "file_extension": ".py",
   "mimetype": "text/x-python",
   "name": "python",
   "nbconvert_exporter": "python",
   "pygments_lexer": "ipython3",
   "version": "3.10.8"
  }
 },
 "nbformat": 4,
 "nbformat_minor": 5
}
